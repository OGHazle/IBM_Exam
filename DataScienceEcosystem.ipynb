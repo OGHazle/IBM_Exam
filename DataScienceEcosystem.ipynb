{
 "cells": [
  {
   "cell_type": "markdown",
   "id": "92ccf4f7-f87c-4725-bfe9-529fd4630424",
   "metadata": {},
   "source": [
    "# Data Science Tools and Ecosystem"
   ]
  },
  {
   "cell_type": "markdown",
   "id": "ba049076-9b40-4516-912e-a3e627d76c37",
   "metadata": {},
   "source": [
    "This is the final test for Course 2: Tools of a Data Scientist by Maurice Althaus "
   ]
  },
  {
   "cell_type": "markdown",
   "id": "804ae7b5-3db8-48d4-8397-7d5839659958",
   "metadata": {},
   "source": [
    "Common Data Scienctist Languages include: \n",
    "- Python\n",
    "- R\n",
    "- SQL\n",
    "- Java"
   ]
  },
  {
   "cell_type": "markdown",
   "id": "f9d68a2d-c4c5-4930-aa03-cab8b9269eca",
   "metadata": {},
   "source": [
    "Common Libriaries include: \n",
    "1. Numpy\n",
    "2. Pandas\n",
    "3. Spacy\n",
    "4. NLTK\n",
    "5. Mathplot\n"
   ]
  },
  {
   "cell_type": "markdown",
   "id": "e3c63412-a11e-4702-8565-05c297f73171",
   "metadata": {},
   "source": [
    "|Common Tools | \n",
    ":-----:|\n",
    "R Studio   |\n",
    "Jupyter Lab|\n",
    "Jupyter Notebook|\n",
    "IBM Watson Studio|\n",
    "\n"
   ]
  },
  {
   "cell_type": "markdown",
   "id": "d098686f-461d-48e0-80da-8b0bf7f6c8dc",
   "metadata": {},
   "source": [
    "### Here are some basic examples"
   ]
  },
  {
   "cell_type": "code",
   "execution_count": 3,
   "id": "d415a8e3-81d6-4289-b81b-5dbdd4c72f4d",
   "metadata": {},
   "outputs": [
    {
     "name": "stdout",
     "output_type": "stream",
     "text": [
      "result = 17\n"
     ]
    }
   ],
   "source": [
    "\n",
    "print(\"result = \" + str(3*4 + 5))\n"
   ]
  },
  {
   "cell_type": "code",
   "execution_count": 4,
   "id": "ebf53860-12b6-4474-bf23-057935c5235b",
   "metadata": {},
   "outputs": [
    {
     "name": "stdout",
     "output_type": "stream",
     "text": [
      "3.3333333333333335 hours\n"
     ]
    }
   ],
   "source": [
    "hours = 1\n",
    "minutes = (1/60)*hours\n",
    "\n",
    "\n",
    "print(str(200*minutes) +\" hours\")"
   ]
  },
  {
   "cell_type": "markdown",
   "id": "21f521f7-f04d-4cb2-9d5a-a66345c61682",
   "metadata": {},
   "source": [
    "**Objectives** <br>\n",
    "- Exercise 2 - Create a markdown cell with the title of the notebook. (1 pt)\n",
    "- Exercise 3 - Create a markdown cell for an introduction. (1 pt)\n",
    "- Exercise 4 - Create a markdown cell to list data science languages. (3 pts)\n",
    "- Exercise 5 - Create a markdown cell to list data science libraries. (3 pts)\n",
    "- Exercise 6 - Create a markdown cell with a table of Data Science tools. (3 pts)\n",
    "\n"
   ]
  },
  {
   "cell_type": "markdown",
   "id": "ed259abf-ce56-4df6-808b-7dd0e32f6964",
   "metadata": {},
   "source": [
    "## Author\n",
    "\n",
    "Maurice Althaus"
   ]
  },
  {
   "cell_type": "code",
   "execution_count": null,
   "id": "57caee21-c7ab-4abd-8f8f-63386a2754c9",
   "metadata": {},
   "outputs": [],
   "source": []
  }
 ],
 "metadata": {
  "kernelspec": {
   "display_name": "Python 3 (ipykernel)",
   "language": "python",
   "name": "python3"
  },
  "language_info": {
   "codemirror_mode": {
    "name": "ipython",
    "version": 3
   },
   "file_extension": ".py",
   "mimetype": "text/x-python",
   "name": "python",
   "nbconvert_exporter": "python",
   "pygments_lexer": "ipython3",
   "version": "3.10.13"
  }
 },
 "nbformat": 4,
 "nbformat_minor": 5
}
