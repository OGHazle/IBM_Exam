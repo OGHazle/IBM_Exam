{
 "cells": [
  {
   "cell_type": "markdown",
   "id": "92ccf4f7-f87c-4725-bfe9-529fd4630424",
   "metadata": {},
   "source": [
    "# Test_IBM_Althaus"
   ]
  },
  {
   "cell_type": "markdown",
   "id": "ba049076-9b40-4516-912e-a3e627d76c37",
   "metadata": {},
   "source": [
    "This is the final test for Course 2: Tools of a Data Scientist by Maurice Althaus "
   ]
  },
  {
   "cell_type": "raw",
   "id": "9dda8129-35ba-4d86-9500-e67672a89202",
   "metadata": {},
   "source": []
  },
  {
   "cell_type": "markdown",
   "id": "206af035-9e1d-462c-a029-1428231ac4a3",
   "metadata": {},
   "source": [
    "**Languages**"
   ]
  },
  {
   "cell_type": "markdown",
   "id": "804ae7b5-3db8-48d4-8397-7d5839659958",
   "metadata": {},
   "source": [
    "Common Data Scienctist Languages include: Python, R, SQL, Java, etc."
   ]
  },
  {
   "cell_type": "raw",
   "id": "7c31fd37-0770-4283-ade8-dd5f04e14b42",
   "metadata": {},
   "source": []
  },
  {
   "cell_type": "markdown",
   "id": "38916fa7-ff84-4226-86a5-e774a6389408",
   "metadata": {},
   "source": [
    "**Libriaries**"
   ]
  },
  {
   "cell_type": "code",
   "execution_count": null,
   "id": "3687b404-240d-48c1-be58-d90b0a224e37",
   "metadata": {},
   "outputs": [],
   "source": []
  },
  {
   "cell_type": "markdown",
   "id": "f9d68a2d-c4c5-4930-aa03-cab8b9269eca",
   "metadata": {},
   "source": [
    "Common Libriaries include: Numpy, Pandas, Spacy, NLTK, Mathplot, etc.\n"
   ]
  },
  {
   "cell_type": "raw",
   "id": "6f728447-5838-4be7-8d6b-5183e5cad8dc",
   "metadata": {},
   "source": []
  },
  {
   "cell_type": "markdown",
   "id": "64ea7c6e-63e9-461e-96b1-5dd8ce3115b8",
   "metadata": {},
   "source": [
    "**Tools**"
   ]
  },
  {
   "cell_type": "markdown",
   "id": "1edd17ce-3c1f-47bc-a640-8b1ac120751d",
   "metadata": {},
   "source": [
    "Common Tools include: R Studio, Jupyter Lab, Jupyter Notebook, IBM Watson Studio"
   ]
  },
  {
   "cell_type": "raw",
   "id": "a0f5e9e4-ca38-43af-b9e0-1554ffc3fb81",
   "metadata": {},
   "source": []
  },
  {
   "cell_type": "markdown",
   "id": "d098686f-461d-48e0-80da-8b0bf7f6c8dc",
   "metadata": {},
   "source": [
    "**Math**"
   ]
  },
  {
   "cell_type": "code",
   "execution_count": 10,
   "id": "d415a8e3-81d6-4289-b81b-5dbdd4c72f4d",
   "metadata": {},
   "outputs": [
    {
     "name": "stdout",
     "output_type": "stream",
     "text": [
      "First result = 5\n",
      "\n",
      "Second result = 6\n"
     ]
    }
   ],
   "source": [
    "#Basic\n",
    "i=2\n",
    "k=3  \n",
    "print(\"First result = \" + str(i+k))\n",
    "\n",
    "#Multiplication\n",
    "print(\"\\n\" +\"Second result = \" + str(i*k))"
   ]
  },
  {
   "cell_type": "markdown",
   "id": "e0a758f8-6d74-4c93-abb1-d15f8c20227a",
   "metadata": {},
   "source": [
    "**Minute to Hour Converter:**"
   ]
  },
  {
   "cell_type": "code",
   "execution_count": 11,
   "id": "ebf53860-12b6-4474-bf23-057935c5235b",
   "metadata": {},
   "outputs": [
    {
     "name": "stdout",
     "output_type": "stream",
     "text": [
      "5.9 hours\n"
     ]
    }
   ],
   "source": [
    "hours = 1\n",
    "minutes = (1/60)*hours\n",
    "\n",
    "\n",
    "print(str(2*hours + 234*minutes) +\" hours\")"
   ]
  },
  {
   "cell_type": "raw",
   "id": "6fc302aa-a48b-4422-8d13-b8f97e8b9579",
   "metadata": {},
   "source": []
  },
  {
   "cell_type": "markdown",
   "id": "d8dd0dc4-9f0c-4e97-85d3-6557e8b6caab",
   "metadata": {},
   "source": [
    "**Goals**"
   ]
  },
  {
   "cell_type": "markdown",
   "id": "21f521f7-f04d-4cb2-9d5a-a66345c61682",
   "metadata": {},
   "source": [
    "Exercise 2 - Create a markdown cell with the title of the notebook. (1 pt)\n",
    "\n",
    "Exercise 3 - Create a markdown cell for an introduction. (1 pt)\n",
    "\n",
    "Exercise 4 - Create a markdown cell to list data science languages. (3 pts)\n",
    "\n",
    "Exercise 5 - Create a markdown cell to list data science libraries. (3 pts)\n",
    "\n",
    "Exercise 6 - Create a markdown cell with a table of Data Science tools. (3 pts)\n",
    "\n",
    "Exercise 7 - Create a markdown cell introducing arithmetic expression examples. (1 pt)\n",
    "\n",
    "Exercise 8 - Create a code cell to multiply and add numbers. (2 pts)\n",
    "\n",
    "Exercise 9 - Create a code cell to convert minutes to hours. (2 pts)\n",
    "\n",
    "Exercise 10 -Insert a markdown cell to list Objectives. (3 pts)\n",
    "\n",
    "Exercise 11 - Create a markdown cell to indicate the Author’s name. (2 pts)\n",
    "\n",
    "Exercise 12 - Share your notebook through GitHub (3 pts)\n",
    "\n",
    "Exercise 13 - Take a screenshot of the first page of the notebook. (1 pt)"
   ]
  },
  {
   "cell_type": "markdown",
   "id": "ed259abf-ce56-4df6-808b-7dd0e32f6964",
   "metadata": {},
   "source": [
    "*This Notebook was made by Maurice Althaus*"
   ]
  }
 ],
 "metadata": {
  "kernelspec": {
   "display_name": "Python 3 (ipykernel)",
   "language": "python",
   "name": "python3"
  },
  "language_info": {
   "codemirror_mode": {
    "name": "ipython",
    "version": 3
   },
   "file_extension": ".py",
   "mimetype": "text/x-python",
   "name": "python",
   "nbconvert_exporter": "python",
   "pygments_lexer": "ipython3",
   "version": "3.10.13"
  }
 },
 "nbformat": 4,
 "nbformat_minor": 5
}
